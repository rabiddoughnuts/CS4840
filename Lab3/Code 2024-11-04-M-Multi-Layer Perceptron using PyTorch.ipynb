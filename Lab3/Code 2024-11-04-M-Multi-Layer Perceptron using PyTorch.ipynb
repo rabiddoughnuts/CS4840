{
 "cells": [
  {
   "cell_type": "code",
   "execution_count": 1,
   "id": "3c4fd6ba",
   "metadata": {},
   "outputs": [],
   "source": [
    "import numpy as np\n",
    "from torchvision import datasets, transforms\n",
    "from torch.utils.data import DataLoader\n",
    "import torch\n",
    "import torch.optim as optim\n",
    "import torch.nn as nn\n",
    "import torch.nn.functional as F\n",
    "from sklearn.metrics import f1_score"
   ]
  },
  {
   "cell_type": "markdown",
   "id": "cd64b3c2",
   "metadata": {},
   "source": [
    "# Load and process Fashion MNIST data for image classification"
   ]
  },
  {
   "cell_type": "code",
   "execution_count": 2,
   "id": "0d5cebe1",
   "metadata": {},
   "outputs": [
    {
     "name": "stdout",
     "output_type": "stream",
     "text": [
      "Downloading http://fashion-mnist.s3-website.eu-central-1.amazonaws.com/train-images-idx3-ubyte.gz\n",
      "Downloading http://fashion-mnist.s3-website.eu-central-1.amazonaws.com/train-images-idx3-ubyte.gz to ./data/FashionMNIST/raw/train-images-idx3-ubyte.gz\n"
     ]
    },
    {
     "name": "stderr",
     "output_type": "stream",
     "text": [
      "100%|██████████| 26.4M/26.4M [00:04<00:00, 5.38MB/s]\n"
     ]
    },
    {
     "name": "stdout",
     "output_type": "stream",
     "text": [
      "Extracting ./data/FashionMNIST/raw/train-images-idx3-ubyte.gz to ./data/FashionMNIST/raw\n",
      "\n",
      "Downloading http://fashion-mnist.s3-website.eu-central-1.amazonaws.com/train-labels-idx1-ubyte.gz\n",
      "Downloading http://fashion-mnist.s3-website.eu-central-1.amazonaws.com/train-labels-idx1-ubyte.gz to ./data/FashionMNIST/raw/train-labels-idx1-ubyte.gz\n"
     ]
    },
    {
     "name": "stderr",
     "output_type": "stream",
     "text": [
      "100%|██████████| 29.5k/29.5k [00:00<00:00, 191kB/s]\n"
     ]
    },
    {
     "name": "stdout",
     "output_type": "stream",
     "text": [
      "Extracting ./data/FashionMNIST/raw/train-labels-idx1-ubyte.gz to ./data/FashionMNIST/raw\n",
      "\n",
      "Downloading http://fashion-mnist.s3-website.eu-central-1.amazonaws.com/t10k-images-idx3-ubyte.gz\n",
      "Downloading http://fashion-mnist.s3-website.eu-central-1.amazonaws.com/t10k-images-idx3-ubyte.gz to ./data/FashionMNIST/raw/t10k-images-idx3-ubyte.gz\n"
     ]
    },
    {
     "name": "stderr",
     "output_type": "stream",
     "text": [
      "100%|██████████| 4.42M/4.42M [00:01<00:00, 4.23MB/s]\n"
     ]
    },
    {
     "name": "stdout",
     "output_type": "stream",
     "text": [
      "Extracting ./data/FashionMNIST/raw/t10k-images-idx3-ubyte.gz to ./data/FashionMNIST/raw\n",
      "\n",
      "Downloading http://fashion-mnist.s3-website.eu-central-1.amazonaws.com/t10k-labels-idx1-ubyte.gz\n",
      "Downloading http://fashion-mnist.s3-website.eu-central-1.amazonaws.com/t10k-labels-idx1-ubyte.gz to ./data/FashionMNIST/raw/t10k-labels-idx1-ubyte.gz\n"
     ]
    },
    {
     "name": "stderr",
     "output_type": "stream",
     "text": [
      "100%|██████████| 5.15k/5.15k [00:00<00:00, 7.84MB/s]"
     ]
    },
    {
     "name": "stdout",
     "output_type": "stream",
     "text": [
      "Extracting ./data/FashionMNIST/raw/t10k-labels-idx1-ubyte.gz to ./data/FashionMNIST/raw\n",
      "\n"
     ]
    },
    {
     "name": "stderr",
     "output_type": "stream",
     "text": [
      "\n"
     ]
    }
   ],
   "source": [
    "#Convert the dataset into Tensor used by PyTorch\n",
    "transform=transforms.Compose([\n",
    "         transforms.ToTensor(),\n",
    "        ])\n",
    "\n",
    "#Download the Fashion MINST data directly from PyTorch\n",
    "#The downloaded datasets are stored in the same folder with this jupyter notebook file\n",
    "#For train dataset, use \"train=True\"\n",
    "#For test dataset, use \"train=False\"\n",
    "train_dataset = datasets.FashionMNIST('./data', train=True, download=True, transform=transform)\n",
    "test_dataset = datasets.FashionMNIST('./data', train=False, download=True, transform=transform)\n",
    "\n",
    "#Load the datasets into DataLoader\n",
    "train_dataloader = DataLoader(train_dataset, batch_size=64, shuffle=True, num_workers=0)\n",
    "test_dataloader = DataLoader(test_dataset, batch_size=64, shuffle=False, num_workers=0)\n",
    "\n",
    "class_names = [\"T-shirt/top\", \"Trouser\", \"Pullover\", \"Dress\", \"Coat\",\n",
    "               \"Sandal\", \"Shirt\", \"Sneaker\", \"Bag\", \"Ankle boot\"]"
   ]
  },
  {
   "cell_type": "markdown",
   "id": "f8f05100",
   "metadata": {},
   "source": [
    "#### Plot some Fashion MNIST examples"
   ]
  },
  {
   "cell_type": "code",
   "execution_count": 3,
   "id": "6b544052",
   "metadata": {},
   "outputs": [
    {
     "data": {
      "image/png": "[encoded data removed]",
      "text/plain": [
       "<Figure size 800x400 with 10 Axes>"
      ]
     },
     "metadata": {},
     "output_type": "display_data"
    }
   ],
   "source": [
    "import numpy as np\n",
    "import matplotlib as mpl\n",
    "import matplotlib.pyplot as plt\n",
    "\n",
    "#One batach has 64 images\n",
    "dataiter = iter(train_dataloader)\n",
    "samples = next(dataiter)\n",
    "\n",
    "# Plot the data\n",
    "def plot_digits(instances, labels, images_per_row=5):\n",
    "    for i in range(len(instances)):\n",
    "        idx = i // images_per_row\n",
    "        idy = i % images_per_row \n",
    "        ax[idx, idy].imshow(instances[i].squeeze(), cmap=\"gray\")\n",
    "        ax[idx, idy].set_title(class_names[labels[i]])\n",
    "        ax[idx, idy].axis(\"off\")\n",
    "\n",
    "fig, ax = plt.subplots(2, 5, figsize=(8, 4))\n",
    "example_images = samples[0][:10]\n",
    "example_labels = samples[1][:10]\n",
    "plot_digits(example_images, example_labels, images_per_row=5)\n",
    "plt.show()"
   ]
  },
  {
   "cell_type": "markdown",
   "id": "a1a2c53a",
   "metadata": {},
   "source": [
    "# Use PyTorch to build a neural network (multi-layer perceptron) for image classification"
   ]
  },
  {
   "cell_type": "markdown",
   "id": "e5ac9dea",
   "metadata": {},
   "source": [
    "#### Define a class to construct all the layers in the neural network"
   ]
  },
  {
   "cell_type": "code",
   "execution_count": 4,
   "id": "1204f685",
   "metadata": {},
   "outputs": [],
   "source": [
    "np.random.seed(42)\n",
    "torch.manual_seed(42)\n",
    "\n",
    "class ClassificationNet(nn.Module):\n",
    "    def __init__(self):\n",
    "        super(ClassificationNet, self).__init__()\n",
    "        self.flatten = nn.Flatten() #Convert the image from matrix to vector\n",
    "        self.fc1 = nn.Linear(784, 300) #The input layer with 784 features, and the first hidden layer with 300 neurons\n",
    "        self.fc2 = nn.Linear(300, 100) #The second hidden layer with 100 neurons\n",
    "        self.fc3 = nn.Linear(100, 10) #The output layer with 10 classes\n",
    "\n",
    "    def forward(self, x):\n",
    "        x = self.flatten(x)\n",
    "        x = F.relu(self.fc1(x))  #The first hidden layer uses ReLU activation function\n",
    "        x = F.relu(self.fc2(x))  #The first hidden layer uses ReLU activation function\n",
    "        x = self.fc3(x) #The output layer does not apply any activation function here, but will be processed directly by loss function\n",
    "        return x"
   ]
  },
  {
   "cell_type": "markdown",
   "id": "5b9a0f36",
   "metadata": {},
   "source": [
    "#### Set up some hyperparameters: use cross entropy loss, adam optimizer, and epochs"
   ]
  },
  {
   "cell_type": "code",
   "execution_count": 5,
   "id": "a2bb661b",
   "metadata": {},
   "outputs": [
    {
     "name": "stdout",
     "output_type": "stream",
     "text": [
      "ClassificationNet(\n",
      "  (flatten): Flatten(start_dim=1, end_dim=-1)\n",
      "  (fc1): Linear(in_features=784, out_features=300, bias=True)\n",
      "  (fc2): Linear(in_features=300, out_features=100, bias=True)\n",
      "  (fc3): Linear(in_features=100, out_features=10, bias=True)\n",
      ")\n"
     ]
    }
   ],
   "source": [
    "epochs = 10\n",
    "learning_rate = 0.01\n",
    "weight_decay = 5e-4\n",
    "lossfunction = nn.CrossEntropyLoss()\n",
    "\n",
    "model = ClassificationNet()\n",
    "optimizer = optim.Adam(model.parameters(), lr=learning_rate, weight_decay=weight_decay)\n",
    "\n",
    "print(model)"
   ]
  },
  {
   "cell_type": "markdown",
   "id": "24eb36ec",
   "metadata": {},
   "source": [
    "#### Train the model"
   ]
  },
  {
   "cell_type": "code",
   "execution_count": 6,
   "id": "6b1613db",
   "metadata": {},
   "outputs": [
    {
     "name": "stdout",
     "output_type": "stream",
     "text": [
      "epoch (1): Train accuracy: 0.7936, f1_score: 0.7913, loss: 0.009\n",
      "epoch (2): Train accuracy: 0.8306, f1_score: 0.8294, loss: 0.007\n",
      "epoch (3): Train accuracy: 0.8362, f1_score: 0.8350, loss: 0.007\n",
      "epoch (4): Train accuracy: 0.8396, f1_score: 0.8384, loss: 0.007\n",
      "epoch (5): Train accuracy: 0.8383, f1_score: 0.8369, loss: 0.007\n",
      "epoch (6): Train accuracy: 0.8398, f1_score: 0.8384, loss: 0.007\n",
      "epoch (7): Train accuracy: 0.8402, f1_score: 0.8390, loss: 0.007\n",
      "epoch (8): Train accuracy: 0.8398, f1_score: 0.8388, loss: 0.007\n",
      "epoch (9): Train accuracy: 0.8420, f1_score: 0.8408, loss: 0.007\n",
      "epoch (10): Train accuracy: 0.8417, f1_score: 0.8408, loss: 0.007\n"
     ]
    }
   ],
   "source": [
    "#Define the training function\n",
    "def train(epoch):\n",
    "    model.train()\n",
    "    \n",
    "    running_loss = 0.0\n",
    "    train_total, train_correct = 0.0, 0.0    \n",
    "    y_train, y_pred = [], []\n",
    "    \n",
    "    for i, (features, labels) in enumerate(train_dataloader):\n",
    "        optimizer.zero_grad()\n",
    "\n",
    "        outputs = model(features)\n",
    "\n",
    "        loss = lossfunction(outputs, labels.long())\n",
    "        loss.backward()\n",
    "        optimizer.step()\n",
    "        \n",
    "        #print statistics\n",
    "        running_loss += loss.item()\n",
    "        _, train_predicted = torch.max(outputs.data, 1)\n",
    "        train_total += labels.size(0)\n",
    "        train_correct += (train_predicted == labels.long()).sum().item()\n",
    "        y_train += labels.tolist()\n",
    "        y_pred += train_predicted.tolist()\n",
    "\n",
    "    macro_f1 = f1_score(y_train, y_pred, average='macro')\n",
    "    print(\"epoch (%d): Train accuracy: %.4f, f1_score: %.4f, loss: %.3f\" % (epoch, train_correct/train_total, macro_f1, running_loss/train_total))\n",
    "    \n",
    "    \n",
    "#Train the model\n",
    "for epoch in range(1, epochs + 1):\n",
    "    train(epoch)"
   ]
  },
  {
   "cell_type": "markdown",
   "id": "b5503666",
   "metadata": {},
   "source": [
    "# Evaluate the trained neural network"
   ]
  },
  {
   "cell_type": "code",
   "execution_count": 15,
   "id": "80c7f3ad",
   "metadata": {},
   "outputs": [
    {
     "name": "stdout",
     "output_type": "stream",
     "text": [
      "Test accuracy: 0.8288, macro f1_score: 0.8323\n"
     ]
    }
   ],
   "source": [
    "#Define the test function\n",
    "def test():\n",
    "    model.eval()\n",
    "    \n",
    "    test_correct, test_total = 0.0, 0.0\n",
    "    y_test, y_pred = [], []\n",
    "    \n",
    "    with torch.no_grad():\n",
    "        for features, labels in test_dataloader:\n",
    "            outputs = model(features)\n",
    "            \n",
    "            _, predicted = torch.max(outputs.data, 1)\n",
    "            test_total += labels.size(0)\n",
    "            test_correct += (predicted == labels.long()).sum().item()\n",
    "            y_test += labels.tolist()\n",
    "            y_pred += predicted.tolist()\n",
    "\n",
    "    macro_f1 = f1_score(y_test, y_pred, average='macro')\n",
    "    print('Test accuracy: %.4f, macro f1_score: %.4f' % (test_correct / test_total, macro_f1))\n",
    "    \n",
    "    return y_test, y_pred\n",
    "\n",
    "#Test the model\n",
    "y_test, y_pred = test()"
   ]
  },
  {
   "cell_type": "markdown",
   "id": "2014dd96",
   "metadata": {},
   "source": [
    "#### Output the confusion matrix"
   ]
  },
  {
   "cell_type": "code",
   "execution_count": 16,
   "id": "b9adc64e",
   "metadata": {},
   "outputs": [
    {
     "name": "stdout",
     "output_type": "stream",
     "text": [
      "Confusion Matrix\n",
      "\n",
      "[[588   3  27  52   4   1 313   0  12   0]\n",
      " [  0 948   3  27   8   2  12   0   0   0]\n",
      " [  4   0 709  11 116   0 158   0   2   0]\n",
      " [  4   9  17 863  42   0  63   0   2   0]\n",
      " [  0   0  96  32 700   0 170   0   2   0]\n",
      " [  1   0   0   1   0 951   0  27   4  16]\n",
      " [ 54   1 105  34  52   1 739   0  14   0]\n",
      " [  0   0   0   0   0  39   0 903   0  58]\n",
      " [  0   1   0   4   5   2  41   3 943   1]\n",
      " [  0   0   0   0   0  26   0  28   2 944]]\n"
     ]
    }
   ],
   "source": [
    "from sklearn.metrics import confusion_matrix\n",
    "confusion = confusion_matrix(y_test, y_pred)\n",
    "print('Confusion Matrix\\n')\n",
    "print(confusion)"
   ]
  },
  {
   "cell_type": "markdown",
   "id": "6df650f0",
   "metadata": {},
   "source": [
    "#### Calculate accuracy, macro F1-score, and micro F1-score"
   ]
  },
  {
   "cell_type": "code",
   "execution_count": 17,
   "id": "d1f3ddfc",
   "metadata": {},
   "outputs": [
    {
     "name": "stdout",
     "output_type": "stream",
     "text": [
      "Accuracy: 0.83\n",
      "Macro F1-score: 0.83\n",
      "Micro F1-score: 0.83\n"
     ]
    }
   ],
   "source": [
    "from sklearn.metrics import accuracy_score, f1_score\n",
    "\n",
    "acc = accuracy_score(y_test, y_pred)\n",
    "macrof1 = f1_score(y_test, y_pred, average='macro')\n",
    "microf1 = f1_score(y_test, y_pred, average='micro')\n",
    "print('Accuracy: {:.2f}'.format(acc))\n",
    "print('Macro F1-score: {:.2f}'.format(macrof1))\n",
    "print('Micro F1-score: {:.2f}'.format(microf1))"
   ]
  }
 ],
 "metadata": {
  "kernelspec": {
   "display_name": "Python 3",
   "language": "python",
   "name": "python3"
  },
  "language_info": {
   "codemirror_mode": {
    "name": "ipython",
    "version": 3
   },
   "file_extension": ".py",
   "mimetype": "text/x-python",
   "name": "python",
   "nbconvert_exporter": "python",
   "pygments_lexer": "ipython3",
   "version": "3.12.7"
  }
 },
 "nbformat": 4,
 "nbformat_minor": 5
}
