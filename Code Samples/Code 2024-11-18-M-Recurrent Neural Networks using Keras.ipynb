{
 "cells": [
  {
   "cell_type": "code",
   "execution_count": 1,
   "id": "3c4fd6ba",
   "metadata": {},
   "outputs": [
    {
     "data": {
      "text/plain": [
       "'3.6.0'"
      ]
     },
     "execution_count": 1,
     "metadata": {},
     "output_type": "execute_result"
    }
   ],
   "source": [
    "import tensorflow as tf\n",
    "from tensorflow import keras\n",
    "import numpy as np\n",
    "\n",
    "keras.__version__"
   ]
  },
  {
   "cell_type": "code",
   "execution_count": 2,
   "id": "a7fdeedb",
   "metadata": {},
   "outputs": [
    {
     "data": {
      "text/plain": [
       "'2.18.0'"
      ]
     },
     "execution_count": 2,
     "metadata": {},
     "output_type": "execute_result"
    }
   ],
   "source": [
    "tf.__version__"
   ]
  },
  {
   "cell_type": "markdown",
   "id": "cd64b3c2",
   "metadata": {},
   "source": [
    "# Load and process IMDB data for text classification"
   ]
  },
  {
   "cell_type": "code",
   "execution_count": 3,
   "id": "0d5cebe1",
   "metadata": {},
   "outputs": [],
   "source": [
    "from keras.datasets import imdb\n",
    "\n",
    "#Download IMDB data and split into train and test sets\n",
    "(X_train, y_train), (X_test, y_test) = imdb.load_data()"
   ]
  },
  {
   "cell_type": "markdown",
   "id": "1cdb1d30",
   "metadata": {},
   "source": [
    "This is a dataset of 25,000 movies reviews from IMDB, labeled by sentiment (positive/negative)."
   ]
  },
  {
   "cell_type": "code",
   "execution_count": 4,
   "id": "58d4bde5",
   "metadata": {},
   "outputs": [
    {
     "name": "stdout",
     "output_type": "stream",
     "text": [
      "(25000,) (25000,) (25000,) (25000,)\n"
     ]
    }
   ],
   "source": [
    "print(X_train.shape, y_train.shape, X_test.shape, y_test.shape)"
   ]
  },
  {
   "cell_type": "code",
   "execution_count": 5,
   "id": "9b4c3bf8",
   "metadata": {},
   "outputs": [],
   "source": [
    "from keras.preprocessing.sequence import pad_sequences\n",
    "\n",
    "# Some hyperparameters\n",
    "vocab_size = 10000  # Number of unique words to consider\n",
    "max_len = 100  # Maximum length of each review (padding/truncation)\n",
    "\n",
    "# Filter out-of-vocabulary indices\n",
    "def filter_out_of_vocab_indices(data, vocab_size):\n",
    "    return [[min(word, vocab_size - 1) for word in review] for review in data]\n",
    "\n",
    "X_train = filter_out_of_vocab_indices(X_train, vocab_size)\n",
    "X_test = filter_out_of_vocab_indices(X_test, vocab_size)\n",
    "\n",
    "# Pad sequences to ensure uniform input size\n",
    "X_train = pad_sequences(X_train, maxlen=max_len, padding='post', truncating='post')\n",
    "X_test = pad_sequences(X_test, maxlen=max_len, padding='post', truncating='post')\n",
    "\n",
    "class_names = [\"Negative\", \"Positive\"]"
   ]
  },
  {
   "cell_type": "markdown",
   "id": "f8f05100",
   "metadata": {},
   "source": [
    "#### Print some IMDB examples"
   ]
  },
  {
   "cell_type": "code",
   "execution_count": 6,
   "id": "6b544052",
   "metadata": {
    "scrolled": true
   },
   "outputs": [
    {
     "name": "stdout",
     "output_type": "stream",
     "text": [
      "[   1   14   22   16   43  530  973 1622 1385   65  458 4468   66 3941\n",
      "    4  173   36  256    5   25  100   43  838  112   50  670 9999    9\n",
      "   35  480  284    5  150    4  172  112  167 9999  336  385   39    4\n",
      "  172 4536 1111   17  546   38   13  447    4  192   50   16    6  147\n",
      " 2025   19   14   22    4 1920 4613  469    4   22   71   87   12   16\n",
      "   43  530   38   76   15   13 1247    4   22   17  515   17   12   16\n",
      "  626   18 9999    5   62  386   12    8  316    8  106    5    4 2223\n",
      " 5244   16]\n"
     ]
    }
   ],
   "source": [
    "print(X_train[0])"
   ]
  },
  {
   "cell_type": "code",
   "execution_count": 7,
   "id": "70078f34-2b51-4e14-99a1-59571b28f852",
   "metadata": {},
   "outputs": [
    {
     "name": "stdout",
     "output_type": "stream",
     "text": [
      "1 Positive\n"
     ]
    }
   ],
   "source": [
    "print(y_train[0], class_names[y_train[0]])"
   ]
  },
  {
   "cell_type": "markdown",
   "id": "a1a2c53a",
   "metadata": {},
   "source": [
    "# Use Keras to build a recurrent neural network for text classification"
   ]
  },
  {
   "cell_type": "markdown",
   "id": "e5ac9dea",
   "metadata": {},
   "source": [
    "#### Construct all the layers in the recurrent neural network"
   ]
  },
  {
   "cell_type": "code",
   "execution_count": 9,
   "id": "1204f685",
   "metadata": {},
   "outputs": [],
   "source": [
    "np.random.seed(42)\n",
    "tf.random.set_seed(42)\n",
    "\n",
    "model = keras.models.Sequential([                        \n",
    "    keras.layers.Embedding(input_dim=vocab_size, output_dim=32, input_length=max_len),   # Embedding layer  \n",
    "    keras.layers.SimpleRNN(64, dropout=0.3, activation=\"relu\"),                    #RNN layer, hidden vector size 64\n",
    "    keras.layers.Dense(1, activation=\"sigmoid\")                       #Output layer, binary classification with 1 neuron and sigmoid\n",
    "])"
   ]
  },
  {
   "cell_type": "code",
   "execution_count": 10,
   "id": "d7d94db8",
   "metadata": {},
   "outputs": [
    {
     "data": {
      "text/plain": [
       "[<Embedding name=embedding_1, built=False>,\n",
       " <SimpleRNN name=simple_rnn_1, built=False>,\n",
       " <Dense name=dense_1, built=False>]"
      ]
     },
     "execution_count": 10,
     "metadata": {},
     "output_type": "execute_result"
    }
   ],
   "source": [
    "model.layers"
   ]
  },
  {
   "cell_type": "markdown",
   "id": "5b9a0f36",
   "metadata": {},
   "source": [
    "#### Set up some hyperparameters: use cross entropy loss, min-batch gradient descent, adam optimizer, and print out accruacy during training"
   ]
  },
  {
   "cell_type": "code",
   "execution_count": 11,
   "id": "a2bb661b",
   "metadata": {},
   "outputs": [],
   "source": [
    "model.compile(loss=\"binary_crossentropy\",                #Cross entropy loss function\n",
    "              optimizer=\"Adam\",                          #Adam optimizer\n",
    "              metrics=[\"accuracy\"])                      #Using accuracy"
   ]
  },
  {
   "cell_type": "markdown",
   "id": "24eb36ec",
   "metadata": {},
   "source": [
    "#### Train the model: use 10 epochs, and display training loss, training accuracy, validation loss, and validation accuracy during model training"
   ]
  },
  {
   "cell_type": "code",
   "execution_count": 12,
   "id": "6b1613db",
   "metadata": {},
   "outputs": [
    {
     "name": "stdout",
     "output_type": "stream",
     "text": [
      "Epoch 1/10\n",
      "\u001b[1m313/313\u001b[0m \u001b[32m━━━━━━━━━━━━━━━━━━━━\u001b[0m\u001b[37m\u001b[0m \u001b[1m2s\u001b[0m 5ms/step - accuracy: 0.5047 - loss: 0.6929 - val_accuracy: 0.5728 - val_loss: 0.6845\n",
      "Epoch 2/10\n",
      "\u001b[1m313/313\u001b[0m \u001b[32m━━━━━━━━━━━━━━━━━━━━\u001b[0m\u001b[37m\u001b[0m \u001b[1m1s\u001b[0m 5ms/step - accuracy: 0.6228 - loss: 0.6549 - val_accuracy: 0.7670 - val_loss: 0.5291\n",
      "Epoch 3/10\n",
      "\u001b[1m313/313\u001b[0m \u001b[32m━━━━━━━━━━━━━━━━━━━━\u001b[0m\u001b[37m\u001b[0m \u001b[1m1s\u001b[0m 5ms/step - accuracy: 0.8035 - loss: 0.4407 - val_accuracy: 0.8210 - val_loss: 0.4116\n",
      "Epoch 4/10\n",
      "\u001b[1m313/313\u001b[0m \u001b[32m━━━━━━━━━━━━━━━━━━━━\u001b[0m\u001b[37m\u001b[0m \u001b[1m1s\u001b[0m 5ms/step - accuracy: 0.8688 - loss: 0.3366 - val_accuracy: 0.7676 - val_loss: 0.5244\n",
      "Epoch 5/10\n",
      "\u001b[1m313/313\u001b[0m \u001b[32m━━━━━━━━━━━━━━━━━━━━\u001b[0m\u001b[37m\u001b[0m \u001b[1m1s\u001b[0m 5ms/step - accuracy: 0.8827 - loss: 0.3200 - val_accuracy: 0.8254 - val_loss: 0.4860\n",
      "Epoch 6/10\n",
      "\u001b[1m313/313\u001b[0m \u001b[32m━━━━━━━━━━━━━━━━━━━━\u001b[0m\u001b[37m\u001b[0m \u001b[1m2s\u001b[0m 5ms/step - accuracy: 0.9080 - loss: 0.2405 - val_accuracy: 0.8328 - val_loss: 0.4246\n",
      "Epoch 7/10\n",
      "\u001b[1m313/313\u001b[0m \u001b[32m━━━━━━━━━━━━━━━━━━━━\u001b[0m\u001b[37m\u001b[0m \u001b[1m1s\u001b[0m 5ms/step - accuracy: 0.9189 - loss: 0.2190 - val_accuracy: 0.8162 - val_loss: 0.4511\n",
      "Epoch 8/10\n",
      "\u001b[1m313/313\u001b[0m \u001b[32m━━━━━━━━━━━━━━━━━━━━\u001b[0m\u001b[37m\u001b[0m \u001b[1m1s\u001b[0m 5ms/step - accuracy: 0.9283 - loss: 0.1949 - val_accuracy: 0.8074 - val_loss: 0.5314\n",
      "Epoch 9/10\n",
      "\u001b[1m313/313\u001b[0m \u001b[32m━━━━━━━━━━━━━━━━━━━━\u001b[0m\u001b[37m\u001b[0m \u001b[1m1s\u001b[0m 5ms/step - accuracy: 0.8955 - loss: 0.2705 - val_accuracy: 0.7924 - val_loss: 0.5010\n",
      "Epoch 10/10\n",
      "\u001b[1m313/313\u001b[0m \u001b[32m━━━━━━━━━━━━━━━━━━━━\u001b[0m\u001b[37m\u001b[0m \u001b[1m2s\u001b[0m 5ms/step - accuracy: 0.9120 - loss: 0.2305 - val_accuracy: 0.8260 - val_loss: 0.5359\n"
     ]
    }
   ],
   "source": [
    "history = model.fit(X_train, y_train, epochs=10,\n",
    "                    batch_size=64, validation_split=0.2)"
   ]
  },
  {
   "cell_type": "markdown",
   "id": "3665239d",
   "metadata": {},
   "source": [
    "#### Plot the training results"
   ]
  },
  {
   "cell_type": "code",
   "execution_count": 13,
   "id": "da448994",
   "metadata": {},
   "outputs": [
    {
     "data": {
      "image/png": "[encoded data removed]",
      "text/plain": [
       "<Figure size 800x500 with 1 Axes>"
      ]
     },
     "metadata": {},
     "output_type": "display_data"
    }
   ],
   "source": [
    "import pandas as pd\n",
    "import matplotlib.pyplot as plt\n",
    "\n",
    "pd.DataFrame(history.history).plot(figsize=(8, 5))\n",
    "plt.grid(True)\n",
    "plt.gca().set_ylim(0, 1)\n",
    "plt.show()"
   ]
  },
  {
   "cell_type": "markdown",
   "id": "927f437d",
   "metadata": {},
   "source": [
    "# Evaluate the trained Recurrent neural network"
   ]
  },
  {
   "cell_type": "markdown",
   "id": "36c7002c",
   "metadata": {},
   "source": [
    "#### Evaluate the train recurrent neural network using model.evaluation()\n",
    "\n",
    "Here, we can use model.evaluation() directly to get the loss and accuracy on the test data. This will return two results, where the first one is test loss and the second one is the test accuracy."
   ]
  },
  {
   "cell_type": "code",
   "execution_count": 14,
   "id": "aa808394",
   "metadata": {},
   "outputs": [
    {
     "name": "stdout",
     "output_type": "stream",
     "text": [
      "\u001b[1m782/782\u001b[0m \u001b[32m━━━━━━━━━━━━━━━━━━━━\u001b[0m\u001b[37m\u001b[0m \u001b[1m1s\u001b[0m 1ms/step - accuracy: 0.7946 - loss: 0.6130\n"
     ]
    },
    {
     "data": {
      "text/plain": [
       "[0.6117568612098694, 0.7961599826812744]"
      ]
     },
     "execution_count": 14,
     "metadata": {},
     "output_type": "execute_result"
    }
   ],
   "source": [
    "model.evaluate(X_test, y_test)"
   ]
  },
  {
   "cell_type": "markdown",
   "id": "60db0704",
   "metadata": {},
   "source": [
    "#### Evaluate the train recurrent neural network using accuracy and F1-score"
   ]
  },
  {
   "cell_type": "code",
   "execution_count": 15,
   "id": "f9c691fc",
   "metadata": {},
   "outputs": [
    {
     "name": "stdout",
     "output_type": "stream",
     "text": [
      "\u001b[1m782/782\u001b[0m \u001b[32m━━━━━━━━━━━━━━━━━━━━\u001b[0m\u001b[37m\u001b[0m \u001b[1m1s\u001b[0m 1ms/step\n"
     ]
    },
    {
     "data": {
      "text/plain": [
       "array([[0.02],\n",
       "       [0.72],\n",
       "       [0.89],\n",
       "       ...,\n",
       "       [0.01],\n",
       "       [0.01],\n",
       "       [0.34]], dtype=float32)"
      ]
     },
     "execution_count": 15,
     "metadata": {},
     "output_type": "execute_result"
    }
   ],
   "source": [
    "y_proba = model.predict(X_test)\n",
    "y_proba.round(2)"
   ]
  },
  {
   "cell_type": "markdown",
   "id": "79778403",
   "metadata": {},
   "source": [
    "Prediction labels:"
   ]
  },
  {
   "cell_type": "code",
   "execution_count": 16,
   "id": "91b42003",
   "metadata": {},
   "outputs": [
    {
     "data": {
      "text/plain": [
       "array([[0],\n",
       "       [1],\n",
       "       [1],\n",
       "       ...,\n",
       "       [0],\n",
       "       [0],\n",
       "       [0]])"
      ]
     },
     "execution_count": 16,
     "metadata": {},
     "output_type": "execute_result"
    }
   ],
   "source": [
    "y_pred = (y_proba > 0.5).astype(\"int32\")\n",
    "y_pred"
   ]
  },
  {
   "cell_type": "markdown",
   "id": "2014dd96",
   "metadata": {},
   "source": [
    "#### Output the confusion matrix"
   ]
  },
  {
   "cell_type": "code",
   "execution_count": 17,
   "id": "b9adc64e",
   "metadata": {},
   "outputs": [
    {
     "name": "stdout",
     "output_type": "stream",
     "text": [
      "Confusion Matrix\n",
      "\n",
      "[[10160  2340]\n",
      " [ 2756  9744]]\n"
     ]
    }
   ],
   "source": [
    "from sklearn.metrics import confusion_matrix\n",
    "confusion = confusion_matrix(y_test, y_pred)\n",
    "print('Confusion Matrix\\n')\n",
    "print(confusion)"
   ]
  },
  {
   "cell_type": "markdown",
   "id": "6df650f0",
   "metadata": {},
   "source": [
    "#### Calculate accuracy, macro F1-score, and micro F1-score"
   ]
  },
  {
   "cell_type": "code",
   "execution_count": 18,
   "id": "d1f3ddfc",
   "metadata": {},
   "outputs": [
    {
     "name": "stdout",
     "output_type": "stream",
     "text": [
      "Accuracy: 0.80\n",
      "F1-score: 0.79\n"
     ]
    }
   ],
   "source": [
    "from sklearn.metrics import accuracy_score, f1_score\n",
    "\n",
    "acc = accuracy_score(y_test, y_pred)\n",
    "f1 = f1_score(y_test, y_pred)\n",
    "microf1 = f1_score(y_test, y_pred, average='micro')\n",
    "print('Accuracy: {:.2f}'.format(acc))\n",
    "print('F1-score: {:.2f}'.format(f1))"
   ]
  }
 ],
 "metadata": {
  "kernelspec": {
   "display_name": "Python 3 (ipykernel)",
   "language": "python",
   "name": "python3"
  },
  "language_info": {
   "codemirror_mode": {
    "name": "ipython",
    "version": 3
   },
   "file_extension": ".py",
   "mimetype": "text/x-python",
   "name": "python",
   "nbconvert_exporter": "python",
   "pygments_lexer": "ipython3",
   "version": "3.12.5"
  }
 },
 "nbformat": 4,
 "nbformat_minor": 5
}
